{
 "metadata": {
  "name": "",
  "signature": "sha256:36bbfb812dbc74102be86a88380481819880a435cfd73274f3b2dbfe10e0ed8a"
 },
 "nbformat": 3,
 "nbformat_minor": 0,
 "worksheets": [
  {
   "cells": [
    {
     "cell_type": "markdown",
     "metadata": {},
     "source": [
      "Mestrado em Modelagem Matematica da Informacao\n",
      "----------------------------------------------\n",
      "Disciplina: Modelagem e Mineracao de Dados\n",
      "------------------------------------------\n",
      "Terceiro trabalho de Modelagem e Minera\u00e7\u00e3o de Dados\n",
      "---------------------------------------------------\n",
      "Dupla: Cristiano Gon\u00e7alves e Pedro Schneider\n",
      "--------------------------------------------"
     ]
    },
    {
     "cell_type": "heading",
     "level": 6,
     "metadata": {},
     "source": [
      "O trabalho consiste em responder \u00e0s quest\u00f5es, com base no arquivo influences.csv:\n",
      "\n",
      "1) Quais s\u00e3o as 10 maiores personalidades, em termos de poder de gerar influ\u00eancias?\n",
      "2) Quais s\u00e3o as 10 personalidades que mais sofreram influ\u00eancias (maior n\u00famero de influenciadores)?\n",
      "3) Quais s\u00e3o os 5 maiores \"clusters\" de personalidades que foram influenciados por um grupo semelhante de influentes?\n",
      "4) Quais s\u00e3o as 5 maiores cadeias de influ\u00eancias (ex: A --> B --> C --> ...)?\n",
      "5) Quais s\u00e3o os pa\u00edses que geraram os maiores influentes?\n",
      "6) Quais s\u00e3o as \u00e1reas dos maiores influentes?\n",
      "7) Crie uma representa\u00e7\u00e3o gr\u00e1fica do Grafo"
     ]
    },
    {
     "cell_type": "heading",
     "level": 4,
     "metadata": {},
     "source": [
      "O trabalho consiste em responder \u00e0s quest\u00f5es, com base no arquivo influences.csv:"
     ]
    },
    {
     "cell_type": "heading",
     "level": 5,
     "metadata": {},
     "source": [
      "1) Quais s\u00e3o as 10 maiores personalidades, em termos de poder de gerar influ\u00eancias?"
     ]
    },
    {
     "cell_type": "heading",
     "level": 5,
     "metadata": {},
     "source": [
      "2) Quais s\u00e3o as 10 personalidades que mais sofreram influ\u00eancias (maior n\u00famero de influenciadores)?"
     ]
    },
    {
     "cell_type": "heading",
     "level": 5,
     "metadata": {},
     "source": [
      "3) Quais s\u00e3o os 5 maiores \"clusters\" de personalidades que foram influenciados por um grupo semelhante de influentes?"
     ]
    },
    {
     "cell_type": "heading",
     "level": 5,
     "metadata": {},
     "source": [
      "4) Quais s\u00e3o as 5 maiores cadeias de influ\u00eancias (ex: A --> B --> C --> ...)?"
     ]
    },
    {
     "cell_type": "heading",
     "level": 5,
     "metadata": {},
     "source": [
      "5) Quais s\u00e3o os pa\u00edses que geraram os maiores influentes?"
     ]
    },
    {
     "cell_type": "heading",
     "level": 5,
     "metadata": {},
     "source": [
      "6) Quais s\u00e3o as \u00e1reas dos maiores influentes?"
     ]
    },
    {
     "cell_type": "heading",
     "level": 5,
     "metadata": {},
     "source": [
      "7) Crie uma representa\u00e7\u00e3o gr\u00e1fica do Grafo"
     ]
    },
    {
     "cell_type": "heading",
     "level": 6,
     "metadata": {},
     "source": [
      "Importo os pacotes necess\u00e1rios para a realiza\u00e7\u00e3o do trabalho"
     ]
    },
    {
     "cell_type": "code",
     "collapsed": false,
     "input": [
      "import numpy as np\n",
      "import matplotlib.pyplot as plt\n",
      "import pylab as pl\n",
      "import networkx as nx\n",
      "import codecs\n",
      "from collections import Counter, OrderedDict\n",
      "import os\n",
      "%pylab inline"
     ],
     "language": "python",
     "metadata": {},
     "outputs": [
      {
       "output_type": "stream",
       "stream": "stdout",
       "text": [
        "Populating the interactive namespace from numpy and matplotlib\n"
       ]
      }
     ],
     "prompt_number": 1
    },
    {
     "cell_type": "code",
     "collapsed": false,
     "input": [
      "datapath = \"/Users/cristianogoncalves/documents/github/influences\"\n",
      "outputs = \"/Users/cristianogoncalves/documents/github/influences\"\n",
      "dataset1 = \"influences.csv\""
     ],
     "language": "python",
     "metadata": {},
     "outputs": [],
     "prompt_number": 2
    },
    {
     "cell_type": "heading",
     "level": 6,
     "metadata": {},
     "source": [
      "Carrego os arquivos para o trabalho."
     ]
    },
    {
     "cell_type": "code",
     "collapsed": false,
     "input": [
      "s = codecs.open(os.path.join(datapath,dataset1), encoding=\"utf-8\").readlines()\n",
      "lines = [line.strip() for line in s]\n",
      "lines2 = []\n",
      "for line in lines:\n",
      "    line = line.replace('\",','\";')\n",
      "    line = line.replace('\"','').strip()\n",
      "    lines2.append(line)\n",
      "print(lines2[:10])\n",
      "x = np.array([(line.split(';')[0],line.split(';')[1]) for line in lines2])\n",
      "x[:10]"
     ],
     "language": "python",
     "metadata": {},
     "outputs": [
      {
       "output_type": "stream",
       "stream": "stdout",
       "text": [
        "[u'Influences;Influenced', u'Ferdinand de Saussure;Jacques Lacan', u'Georg Wilhelm Friedrich Hegel;Jacques Lacan', u'Sigmund Freud;Jacques Lacan', u'Benjamin Tucker;Robert Anton Wilson', u\"Brian O'Nolan;Robert Anton Wilson\", u'Terence McKenna;Robert Anton Wilson', u'Colin Wilson;Robert Anton Wilson', u'Robert W. Chambers;Robert Anton Wilson', u'Aristotle;Alexander the Great']\n"
       ]
      },
      {
       "metadata": {},
       "output_type": "pyout",
       "prompt_number": 3,
       "text": [
        "array([[u'Influences', u'Influenced'],\n",
        "       [u'Ferdinand de Saussure', u'Jacques Lacan'],\n",
        "       [u'Georg Wilhelm Friedrich Hegel', u'Jacques Lacan'],\n",
        "       [u'Sigmund Freud', u'Jacques Lacan'],\n",
        "       [u'Benjamin Tucker', u'Robert Anton Wilson'],\n",
        "       [u\"Brian O'Nolan\", u'Robert Anton Wilson'],\n",
        "       [u'Terence McKenna', u'Robert Anton Wilson'],\n",
        "       [u'Colin Wilson', u'Robert Anton Wilson'],\n",
        "       [u'Robert W. Chambers', u'Robert Anton Wilson'],\n",
        "       [u'Aristotle', u'Alexander the Great']], \n",
        "      dtype='<U52')"
       ]
      }
     ],
     "prompt_number": 3
    },
    {
     "cell_type": "code",
     "collapsed": false,
     "input": [],
     "language": "python",
     "metadata": {},
     "outputs": []
    }
   ],
   "metadata": {}
  }
 ]
}