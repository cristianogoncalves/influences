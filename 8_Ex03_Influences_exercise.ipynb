{
 "metadata": {
  "name": "",
  "signature": "sha256:aa80b8be35e468a55a58fc982e5c356b787ca42f25489a5579a992afab29c6c5"
 },
 "nbformat": 3,
 "nbformat_minor": 0,
 "worksheets": [
  {
   "cells": [
    {
     "cell_type": "markdown",
     "metadata": {},
     "source": [
      "Importing modules"
     ]
    },
    {
     "cell_type": "code",
     "collapsed": false,
     "input": [
      "import numpy as np\n",
      "import matplotlib.pyplot as plt\n",
      "import pylab as pl\n",
      "import networkx as nx\n",
      "import codecs\n",
      "from collections import Counter, OrderedDict\n",
      "import os\n",
      "%pylab inline"
     ],
     "language": "python",
     "metadata": {},
     "outputs": [],
     "prompt_number": 1
    },
    {
     "cell_type": "markdown",
     "metadata": {},
     "source": [
      "Specifying the path to the files:"
     ]
    },
    {
     "cell_type": "code",
     "collapsed": false,
     "input": [
      "datapath = \"/home/rsouza/Dropbox/Renato/ModMinDados/Git/datasets/\"\n",
      "outputs = \"/home/rsouza/Dropbox/Renato/ModMinDados/outputs/\"\n",
      "dataset1 = \"influences.csv\""
     ],
     "language": "python",
     "metadata": {},
     "outputs": [],
     "prompt_number": 2
    },
    {
     "cell_type": "markdown",
     "metadata": {},
     "source": [
      "Loading the datasets\n",
      "\n",
      "(We are  not using loadtxt and genfromtxt because of the UTF-8 encoding in the source data)"
     ]
    },
    {
     "cell_type": "code",
     "collapsed": false,
     "input": [
      "s = codecs.open(os.path.join(datapath,dataset1), encoding=\"utf-8\").readlines()\n",
      "lines = [line.strip() for line in s]\n",
      "lines2 = []\n",
      "for line in lines:\n",
      "    line = line.replace('\",','\";')\n",
      "    line = line.replace('\"','').strip()\n",
      "    lines2.append(line)\n",
      "print(lines2[:10])\n",
      "x = np.array([(line.split(';')[0],line.split(';')[1]) for line in lines2])\n",
      "x[:10]"
     ],
     "language": "python",
     "metadata": {},
     "outputs": [
      {
       "output_type": "stream",
       "stream": "stdout",
       "text": [
        "[u'Influnces;Influenced', u'Ferdinand de Saussure;Jacques Lacan', u'Georg Wilhelm Friedrich Hegel;Jacques Lacan', u'Sigmund Freud;Jacques Lacan', u'Benjamin Tucker;Robert Anton Wilson', u\"Brian O'Nolan;Robert Anton Wilson\", u'Terence McKenna;Robert Anton Wilson', u'Colin Wilson;Robert Anton Wilson', u'Robert W. Chambers;Robert Anton Wilson', u'Aristotle;Alexander the Great']\n"
       ]
      },
      {
       "metadata": {},
       "output_type": "pyout",
       "prompt_number": 3,
       "text": [
        "array([[u'Influnces', u'Influenced'],\n",
        "       [u'Ferdinand de Saussure', u'Jacques Lacan'],\n",
        "       [u'Georg Wilhelm Friedrich Hegel', u'Jacques Lacan'],\n",
        "       [u'Sigmund Freud', u'Jacques Lacan'],\n",
        "       [u'Benjamin Tucker', u'Robert Anton Wilson'],\n",
        "       [u\"Brian O'Nolan\", u'Robert Anton Wilson'],\n",
        "       [u'Terence McKenna', u'Robert Anton Wilson'],\n",
        "       [u'Colin Wilson', u'Robert Anton Wilson'],\n",
        "       [u'Robert W. Chambers', u'Robert Anton Wilson'],\n",
        "       [u'Aristotle', u'Alexander the Great']], \n",
        "      dtype='<U52')"
       ]
      }
     ],
     "prompt_number": 3
    },
    {
     "cell_type": "markdown",
     "metadata": {},
     "source": [
      "Examining the shape of the array:"
     ]
    },
    {
     "cell_type": "code",
     "collapsed": false,
     "input": [
      "x.shape"
     ],
     "language": "python",
     "metadata": {},
     "outputs": [
      {
       "metadata": {},
       "output_type": "pyout",
       "prompt_number": 4,
       "text": [
        "(5009, 2)"
       ]
      }
     ],
     "prompt_number": 4
    },
    {
     "cell_type": "markdown",
     "metadata": {},
     "source": [
      "Creating an ordered dict with the frequencies, using two special collections types:\n",
      "\n",
      "http://docs.python.org/2/library/collections.html#collections.Counter\n",
      "\n",
      "http://docs.python.org/2/library/collections.html#collections.OrderedDict"
     ]
    },
    {
     "cell_type": "code",
     "collapsed": false,
     "input": [
      "y = Counter(x[:,0])\n",
      "z = Counter(x[:,1])\n",
      "y2 = OrderedDict(sorted(y.items(), key=lambda k: k[1], reverse=True))\n",
      "z2 = OrderedDict(sorted(z.items(), key=lambda k: k[1], reverse=True))\n",
      "#y2"
     ],
     "language": "python",
     "metadata": {},
     "outputs": [],
     "prompt_number": 5
    },
    {
     "cell_type": "code",
     "collapsed": false,
     "input": [
      "eixo_x = np.arange(len(y2))\n",
      "y2max = max(y2.values()) + 1\n",
      "\n",
      "plt.figure(figsize=(30,15), dpi=100)\n",
      "\n",
      "plt.subplot(211)\n",
      "plt.bar(eixo_x, y2.values(), align='center', width=0.35)\n",
      "plt.xticks(eixo_x, y2.keys())\n",
      "plt.ylim(0, y2max)\n",
      "plt.xticks(rotation=70)\n",
      "plt.ylabel('# of influences given')\n",
      "plt.title('Most influents')\n",
      "\n",
      "eixo_x = np.arange(len(z2))\n",
      "z2max = max(z2.values()) + 1\n",
      "\n",
      "plt.subplot(212)\n",
      "plt.bar(eixo_x, z2.values(), align='center', width=0.35)\n",
      "plt.xticks(eixo_x, z2.keys())\n",
      "plt.ylim(0, z2max)\n",
      "plt.xticks(rotation=70)\n",
      "plt.ylabel('# of influences received')\n",
      "plt.title('Most influenced')\n",
      "\n",
      "plt.tight_layout()\n",
      "plt.show()"
     ],
     "language": "python",
     "metadata": {},
     "outputs": [],
     "prompt_number": 6
    },
    {
     "cell_type": "markdown",
     "metadata": {},
     "source": [
      "Generating a graph with NetworkX. Note that the graph is too large for a full visualization\n",
      "That's why I have commented some lines and replaced for a limited version"
     ]
    },
    {
     "cell_type": "code",
     "collapsed": false,
     "input": [
      "limit = 30\n",
      "\n",
      "G=nx.DiGraph()\n",
      "#G.add_nodes_from(x[1:,0])\n",
      "#G.add_nodes_from(x[1:,1])\n",
      "G.add_nodes_from(x[1:limit,0])\n",
      "G.add_nodes_from(x[1:limit,1])\n",
      "\n",
      "#for i in range(1,len(x)):\n",
      "for i in range(1,limit):\n",
      "    G.add_edge(x[i,0],x[i,1])\n",
      "\n",
      "print('Number of nodes is: ', G.number_of_nodes())\n",
      "print('Number of edges is: ',G.number_of_edges())\n",
      "\n",
      "print(G.edges())"
     ],
     "language": "python",
     "metadata": {},
     "outputs": [
      {
       "output_type": "stream",
       "stream": "stdout",
       "text": [
        "('Number of nodes is: ', 42)\n",
        "('Number of edges is: ', 29)\n",
        "[(u'Guillaume-Fran\\xe7ois Rouelle', u'Antoine Lavoisier'), (u'William F. Buckley, Jr.', u'Barry Goldwater'), (u'Terence McKenna', u'Robert Anton Wilson'), (u'Josiah Warren', u'Benjamin Tucker'), (u'Charlotte Bront\\xeb', u'Anne Bront\\xeb'), (u\"Brian O'Nolan\", u'Robert Anton Wilson'), (u'Max Stirner', u'Benjamin Tucker'), (u'Victor Hugo', u'Charles Baudelaire'), (u'George Boole', u'Claude Shannon'), (u'Lord Byron', u'Anne Bront\\xeb'), (u'Robert W. Chambers', u'Robert Anton Wilson'), (u'Emerich de Vattel', u'Benjamin Franklin'), (u'Otto Rank', u'Ana\\xefs Nin'), (u'Aristotle', u'Alexander the Great'), (u'Ovid', u'Charles Baudelaire'), (u'Ovid', u'Christopher Marlowe'), (u'Georg Wilhelm Friedrich Hegel', u'Jacques Lacan'), (u'Benjamin Tucker', u'Robert Anton Wilson'), (u'Charles Lyell', u'Alfred Russel Wallace'), (u'Pierre-Joseph Proudhon', u'Benjamin Tucker'), (u'Maya Deren', u'Ana\\xefs Nin'), (u'D. H. Lawrence', u'Ana\\xefs Nin'), (u'Ferdinand de Saussure', u'Jacques Lacan'), (u'Charles Grafton Page', u'Alexander Graham Bell'), (u'Robert Morison', u'Carl Linnaeus'), (u'Emily Bront\\xeb', u'Anne Bront\\xeb'), (u'Oscar Wilde', u'Benjamin Tucker'), (u'Sigmund Freud', u'Jacques Lacan'), (u'Colin Wilson', u'Robert Anton Wilson')]\n"
       ]
      }
     ],
     "prompt_number": 7
    },
    {
     "cell_type": "code",
     "collapsed": false,
     "input": [
      "nx.draw(G)"
     ],
     "language": "python",
     "metadata": {},
     "outputs": [],
     "prompt_number": 8
    },
    {
     "cell_type": "code",
     "collapsed": false,
     "input": [],
     "language": "python",
     "metadata": {},
     "outputs": [],
     "prompt_number": 8
    }
   ],
   "metadata": {}
  }
 ]
}